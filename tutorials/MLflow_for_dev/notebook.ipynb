{
 "cells": [
  {
   "cell_type": "code",
   "execution_count": 4,
   "id": "9c405781",
   "metadata": {},
   "outputs": [],
   "source": [
    "# importing necessary libraries\n",
    "import mlflow\n",
    "from experiement_utils import create_experiment, retrieve_experiment"
   ]
  },
  {
   "cell_type": "code",
   "execution_count": 5,
   "id": "4eb179bb",
   "metadata": {},
   "outputs": [
    {
     "name": "stdout",
     "output_type": "stream",
     "text": [
      "Run ID: e6e9b9b6424a4d99bcb3c5ce4eb54233\n",
      "Experiment ID: 276082829927872645\n",
      "Status: RUNNING\n",
      "Start time: 1746879002075\n",
      "End time: None\n",
      "Lifecycle stage: active\n"
     ]
    }
   ],
   "source": [
    "# creating an experiment\n",
    "tag = {\"env\": \"dev\", \"version\": \"1.0.0\"}\n",
    "\n",
    "experiment = create_experiment(name=\"mlflow\", artifact_location=\"testing_mlflow_artifact\", tags=tag)\n",
    "\n",
    "# creating a run under the experiment\n",
    "# mlflow.set_experiment(experiment_name=\"testing_mlflow\")\n",
    "with mlflow.start_run(run_name=\"testing\", experiment_id = experiment) as run:\n",
    "    mlflow.log_param(\"learning_rate\", 0.01)\n",
    "\n",
    "    # displaying run info\n",
    "    print(f\"Run ID: {run.info.run_id}\")\n",
    "    print(f\"Experiment ID: {run.info.experiment_id}\")\n",
    "    print(f\"Status: {run.info.status}\")\n",
    "    print(f\"Start time: {run.info.start_time}\")\n",
    "    print(f\"End time: {run.info.end_time}\")\n",
    "    print(f\"Lifecycle stage: {run.info.lifecycle_stage}\")"
   ]
  },
  {
   "cell_type": "code",
   "execution_count": null,
   "id": "a43ba743",
   "metadata": {},
   "outputs": [
    {
     "name": "stdout",
     "output_type": "stream",
     "text": [
      "Run ID: ededa4249791421193eac60e9e7fbcc4\n",
      "Experiment ID: 276082829927872645\n",
      "Status: RUNNING\n",
      "Start time: 1746879063576\n",
      "End time: None\n",
      "Lifecycle stage: active\n"
     ]
    }
   ],
   "source": [
    "# ==========================Logging parameters===========================\n",
    "\n",
    "experiment = retrieve_experiment(experiment_name=\"mlflow\")\n",
    "with mlflow.start_run(run_name=\"log_parameters\", experiment_id = experiment.experiment_id) as run:\n",
    "    # mlflow.log_param(\"learning_rate\", 0.01)\n",
    "\n",
    "    parameters = {\n",
    "        \"learning_rate\": 0.01,\n",
    "        \"epochs\": 10,\n",
    "        \"batch_size\": 100,\n",
    "        \"loss_function\": \"mse\",\n",
    "        \"optimizer\": \"adam\"\n",
    "    }\n",
    "\n",
    "    mlflow.log_params(params=parameters)\n",
    "\n",
    "    # displaying run info\n",
    "    print(f\"Run ID: {run.info.run_id}\")\n",
    "    print(f\"Experiment ID: {run.info.experiment_id}\")\n",
    "    print(f\"Status: {run.info.status}\")\n",
    "    print(f\"Start time: {run.info.start_time}\")\n",
    "    print(f\"End time: {run.info.end_time}\")\n",
    "    print(f\"Lifecycle stage: {run.info.lifecycle_stage}\")"
   ]
  },
  {
   "cell_type": "code",
   "execution_count": null,
   "id": "1b1bd969",
   "metadata": {},
   "outputs": [
    {
     "name": "stdout",
     "output_type": "stream",
     "text": [
      "Run ID: 82d3efc1d0944dd09a8166c43599b374\n",
      "Experiment ID: 276082829927872645\n",
      "Status: RUNNING\n",
      "Start time: 1746879965858\n",
      "End time: None\n",
      "Lifecycle stage: active\n"
     ]
    }
   ],
   "source": [
    "# ================================LOGGING METRICS=================================\n",
    "\n",
    "experiment = retrieve_experiment(experiment_name=\"mlflow\")\n",
    "\n",
    "with mlflow.start_run(run_name=\"log_metrics\", experiment_id=experiment.experiment_id) as run:\n",
    "\n",
    "    metrics = {\n",
    "        \"mse\": 0.01,\n",
    "        \"rmse\": 0.001,\n",
    "        \"mae\": 0.01,\n",
    "        \"r2\": 0.005\n",
    "    }\n",
    "\n",
    "    parameters = {\n",
    "        \"learning_rate\": 0.01,\n",
    "        \"epochs\": 10,\n",
    "        \"batch_size\": 100,\n",
    "        \"loss_function\": \"mse\",\n",
    "        \"optimizer\": \"adam\"\n",
    "    }\n",
    "\n",
    "    mlflow.log_params(params=parameters)\n",
    "\n",
    "    mlflow.log_metrics(metrics)\n",
    "\n",
    "    # displaying run info\n",
    "    print(f\"Run ID: {run.info.run_id}\")\n",
    "    print(f\"Experiment ID: {run.info.experiment_id}\")\n",
    "    print(f\"Status: {run.info.status}\")\n",
    "    print(f\"Start time: {run.info.start_time}\")\n",
    "    print(f\"End time: {run.info.end_time}\")\n",
    "    print(f\"Lifecycle stage: {run.info.lifecycle_stage}\")"
   ]
  },
  {
   "cell_type": "code",
   "execution_count": 10,
   "id": "c4e4e099",
   "metadata": {},
   "outputs": [
    {
     "name": "stdout",
     "output_type": "stream",
     "text": [
      "Run ID: d99a168da12140b0a942105baa9677fc\n",
      "Experiment ID: 276082829927872645\n",
      "Status: RUNNING\n",
      "Start time: 1746881187938\n",
      "End time: None\n",
      "Lifecycle stage: active\n",
      "Artifact: file:///c:/Users/STUDSENT/Desktop/machine-learning-bootcamp/tutorials/MLflow_for_dev/testing_mlflow_artifact/d99a168da12140b0a942105baa9677fc/artifacts\n"
     ]
    }
   ],
   "source": [
    "# =============================== LOGGING ARTIFACTS =================================\n",
    "\n",
    "\n",
    "experiment = retrieve_experiment(experiment_name=\"mlflow\")\n",
    "\n",
    "with mlflow.start_run(run_name=\"log_artifact\", experiment_id=experiment.experiment_id) as run:\n",
    "    with open(\"hello_world.txt\", 'w') as file:\n",
    "        file.write(\"Hello World!\")\n",
    "    \n",
    "    mlflow.log_artifact(local_path=\"hello_world.txt\", artifact_path=\"text_files\")\n",
    "\n",
    "\n",
    "    metrics = {\n",
    "        \"mse\": 0.01,\n",
    "        \"rmse\": 0.001,\n",
    "        \"mae\": 0.01,\n",
    "        \"r2\": 0.005\n",
    "    }\n",
    "\n",
    "    parameters = {\n",
    "        \"learning_rate\": 0.01,\n",
    "        \"epochs\": 10,\n",
    "        \"batch_size\": 100,\n",
    "        \"loss_function\": \"mse\",\n",
    "        \"optimizer\": \"adam\"\n",
    "    }\n",
    "\n",
    "    mlflow.log_params(params=parameters)\n",
    "\n",
    "    mlflow.log_metrics(metrics)\n",
    "\n",
    "    # displaying run info\n",
    "    print(f\"Run ID: {run.info.run_id}\")\n",
    "    print(f\"Experiment ID: {run.info.experiment_id}\")\n",
    "    print(f\"Status: {run.info.status}\")\n",
    "    print(f\"Start time: {run.info.start_time}\")\n",
    "    print(f\"End time: {run.info.end_time}\")\n",
    "    print(f\"Lifecycle stage: {run.info.lifecycle_stage}\")\n",
    "    print(f\"Artifact: {run.info.artifact_uri}\")"
   ]
  }
 ],
 "metadata": {
  "kernelspec": {
   "display_name": "base",
   "language": "python",
   "name": "python3"
  },
  "language_info": {
   "codemirror_mode": {
    "name": "ipython",
    "version": 3
   },
   "file_extension": ".py",
   "mimetype": "text/x-python",
   "name": "python",
   "nbconvert_exporter": "python",
   "pygments_lexer": "ipython3",
   "version": "3.12.4"
  }
 },
 "nbformat": 4,
 "nbformat_minor": 5
}
