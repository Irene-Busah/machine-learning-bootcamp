{
 "cells": [
  {
   "cell_type": "code",
   "execution_count": 5,
   "id": "9c405781",
   "metadata": {},
   "outputs": [],
   "source": [
    "# importing necessary libraries\n",
    "import mlflow\n",
    "from experiement_utils import create_experiment"
   ]
  },
  {
   "cell_type": "code",
   "execution_count": 9,
   "id": "4eb179bb",
   "metadata": {},
   "outputs": [
    {
     "name": "stdout",
     "output_type": "stream",
     "text": [
      "Run ID: a27845124bfb44b19f125447c1be6ad2\n",
      "Experiment ID: 768299856838959283\n",
      "Status: RUNNING\n",
      "Start time: 1746347031974\n",
      "End time: None\n",
      "Lifecycle stage: active\n"
     ]
    }
   ],
   "source": [
    "# creating an experiment\n",
    "tag = {\"env\": \"dev\", \"version\": \"1.0.0\"}\n",
    "\n",
    "experiment = create_experiment(name=\"mlflow\", artifact_location=\"testing_mlflow_artifact\", tags=tag)\n",
    "\n",
    "# creating a run under the experiment\n",
    "# mlflow.set_experiment(experiment_name=\"testing_mlflow\")\n",
    "with mlflow.start_run(run_name=\"testing\", experiment_id = experiment) as run:\n",
    "    mlflow.log_param(\"learning_rate\", 0.01)\n",
    "\n",
    "    # displaying run info\n",
    "    print(f\"Run ID: {run.info.run_id}\")\n",
    "    print(f\"Experiment ID: {run.info.experiment_id}\")\n",
    "    print(f\"Status: {run.info.status}\")\n",
    "    print(f\"Start time: {run.info.start_time}\")\n",
    "    print(f\"End time: {run.info.end_time}\")\n",
    "    print(f\"Lifecycle stage: {run.info.lifecycle_stage}\")"
   ]
  }
 ],
 "metadata": {
  "kernelspec": {
   "display_name": "base",
   "language": "python",
   "name": "python3"
  },
  "language_info": {
   "codemirror_mode": {
    "name": "ipython",
    "version": 3
   },
   "file_extension": ".py",
   "mimetype": "text/x-python",
   "name": "python",
   "nbconvert_exporter": "python",
   "pygments_lexer": "ipython3",
   "version": "3.12.4"
  }
 },
 "nbformat": 4,
 "nbformat_minor": 5
}
