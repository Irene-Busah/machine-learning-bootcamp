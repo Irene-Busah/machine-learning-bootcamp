{
 "cells": [
  {
   "cell_type": "code",
   "execution_count": 1,
   "id": "18ff539f",
   "metadata": {},
   "outputs": [],
   "source": [
    "# importing the necessary libraries\n",
    "import pandas as pd\n",
    "import mlflow\n",
    "from sklearn.datasets import make_classification\n",
    "from sklearn.model_selection import train_test_split\n",
    "from sklearn.ensemble import RandomForestClassifier"
   ]
  },
  {
   "cell_type": "code",
   "execution_count": 2,
   "id": "2e36a952",
   "metadata": {},
   "outputs": [],
   "source": [
    "from experiement_utils import retrieve_experiment, create_experiment"
   ]
  },
  {
   "cell_type": "code",
   "execution_count": 4,
   "id": "dff8a63c",
   "metadata": {},
   "outputs": [
    {
     "name": "stderr",
     "output_type": "stream",
     "text": [
      "2025/05/10 17:32:38 INFO mlflow.tracking.fluent: Autologging successfully enabled for sklearn.\n",
      "2025/05/10 17:32:38 WARNING mlflow.spark: With Pyspark >= 3.2, PYSPARK_PIN_THREAD environment variable must be set to false for Spark datasource autologging to work.\n",
      "2025/05/10 17:32:38 INFO mlflow.tracking.fluent: Autologging successfully enabled for pyspark.\n"
     ]
    },
    {
     "name": "stdout",
     "output_type": "stream",
     "text": [
      "Run ID: 4af64c965d59405e96b451d3309cae41\n",
      "Experiment ID: 276082829927872645\n",
      "Status: RUNNING\n",
      "Start time: 1746891158707\n",
      "End time: None\n",
      "Lifecycle stage: active\n"
     ]
    }
   ],
   "source": [
    "# retrieving an experiment\n",
    "experiment = retrieve_experiment(experiment_name=\"mlflow\")\n",
    "\n",
    "with mlflow.start_run(run_name=\"logging model\", experiment_id=experiment.experiment_id) as run:\n",
    "    X, y = make_classification(n_samples=1000, n_features=10, n_informative=5, n_redundant=5, random_state=42)\n",
    "\n",
    "    X_train, X_test, y_train, y_test = train_test_split(X, y, test_size=0.2, random_state=42)\n",
    "\n",
    "    mlflow.autolog()\n",
    "\n",
    "    random_forest = RandomForestClassifier()\n",
    "    random_forest.fit(X_train, y_train)\n",
    "\n",
    "    # predicting \n",
    "    y_pred = random_forest.predict(X_test)\n",
    "\n",
    "    # displaying run info\n",
    "    print(f\"Run ID: {run.info.run_id}\")\n",
    "    print(f\"Experiment ID: {run.info.experiment_id}\")\n",
    "    print(f\"Status: {run.info.status}\")\n",
    "    print(f\"Start time: {run.info.start_time}\")\n",
    "    print(f\"End time: {run.info.end_time}\")\n",
    "    print(f\"Lifecycle stage: {run.info.lifecycle_stage}\")\n",
    "    # print(f\"Artifact: {run.info.artifact_uri}\")"
   ]
  },
  {
   "cell_type": "code",
   "execution_count": 5,
   "id": "a042d220",
   "metadata": {},
   "outputs": [
    {
     "data": {
      "application/vnd.microsoft.datawrangler.viewer.v0+json": {
       "columns": [
        {
         "name": "index",
         "rawType": "int64",
         "type": "integer"
        },
        {
         "name": "prediction",
         "rawType": "int32",
         "type": "integer"
        }
       ],
       "conversionMethod": "pd.DataFrame",
       "ref": "e935c983-eb3a-46bc-844e-c49c29002075",
       "rows": [
        [
         "56",
         "1"
        ],
        [
         "164",
         "0"
        ],
        [
         "2",
         "1"
        ],
        [
         "111",
         "0"
        ],
        [
         "64",
         "0"
        ],
        [
         "144",
         "0"
        ],
        [
         "78",
         "1"
        ],
        [
         "40",
         "0"
        ],
        [
         "53",
         "0"
        ],
        [
         "138",
         "1"
        ]
       ],
       "shape": {
        "columns": 1,
        "rows": 10
       }
      },
      "text/html": [
       "<div>\n",
       "<style scoped>\n",
       "    .dataframe tbody tr th:only-of-type {\n",
       "        vertical-align: middle;\n",
       "    }\n",
       "\n",
       "    .dataframe tbody tr th {\n",
       "        vertical-align: top;\n",
       "    }\n",
       "\n",
       "    .dataframe thead th {\n",
       "        text-align: right;\n",
       "    }\n",
       "</style>\n",
       "<table border=\"1\" class=\"dataframe\">\n",
       "  <thead>\n",
       "    <tr style=\"text-align: right;\">\n",
       "      <th></th>\n",
       "      <th>prediction</th>\n",
       "    </tr>\n",
       "  </thead>\n",
       "  <tbody>\n",
       "    <tr>\n",
       "      <th>56</th>\n",
       "      <td>1</td>\n",
       "    </tr>\n",
       "    <tr>\n",
       "      <th>164</th>\n",
       "      <td>0</td>\n",
       "    </tr>\n",
       "    <tr>\n",
       "      <th>2</th>\n",
       "      <td>1</td>\n",
       "    </tr>\n",
       "    <tr>\n",
       "      <th>111</th>\n",
       "      <td>0</td>\n",
       "    </tr>\n",
       "    <tr>\n",
       "      <th>64</th>\n",
       "      <td>0</td>\n",
       "    </tr>\n",
       "    <tr>\n",
       "      <th>144</th>\n",
       "      <td>0</td>\n",
       "    </tr>\n",
       "    <tr>\n",
       "      <th>78</th>\n",
       "      <td>1</td>\n",
       "    </tr>\n",
       "    <tr>\n",
       "      <th>40</th>\n",
       "      <td>0</td>\n",
       "    </tr>\n",
       "    <tr>\n",
       "      <th>53</th>\n",
       "      <td>0</td>\n",
       "    </tr>\n",
       "    <tr>\n",
       "      <th>138</th>\n",
       "      <td>1</td>\n",
       "    </tr>\n",
       "  </tbody>\n",
       "</table>\n",
       "</div>"
      ],
      "text/plain": [
       "     prediction\n",
       "56            1\n",
       "164           0\n",
       "2             1\n",
       "111           0\n",
       "64            0\n",
       "144           0\n",
       "78            1\n",
       "40            0\n",
       "53            0\n",
       "138           1"
      ]
     },
     "execution_count": 5,
     "metadata": {},
     "output_type": "execute_result"
    }
   ],
   "source": [
    "# making predictions from the loaded model\n",
    "\n",
    "import mlflow.sklearn\n",
    "\n",
    "\n",
    "logged_model = 'runs:/4af64c965d59405e96b451d3309cae41/model'\n",
    "\n",
    "X, y = make_classification(n_samples=1000, n_features=10, n_informative=5, n_redundant=5, random_state=42)\n",
    "\n",
    "_, X_test, _, y_test = train_test_split(X, y, test_size=0.2, random_state=42)\n",
    "\n",
    "\n",
    "# Load model as a PyFuncModel.\n",
    "loaded_model = mlflow.sklearn.load_model(logged_model)\n",
    "\n",
    "# Predict on a Pandas DataFrame.\n",
    "\n",
    "y_predictions = pd.DataFrame(loaded_model.predict(X_test), columns=['prediction'])\n",
    "y_predictions.sample(n=10)"
   ]
  },
  {
   "cell_type": "code",
   "execution_count": 8,
   "id": "714dfad8",
   "metadata": {},
   "outputs": [
    {
     "name": "stdout",
     "output_type": "stream",
     "text": [
      "Experiment nested_experiment already exist\n",
      "Run ID: 6c87495466bc420c992d9e15857cab48\n",
      "Child1 Run ID: 2917dae054534058b00be52d17f2298d\n",
      "Child_11 Run ID: 06edaa2388a141ce9022c79a67e51734\n",
      "Child_12 Run ID: d10ed1cae1824327bd9edbd76f0eb68b\n",
      "Child2 Run ID: 0d180d9c753143fb9c5660d5790f26c8\n"
     ]
    }
   ],
   "source": [
    "# ========================= Nested Runs ==============================\n",
    "\n",
    "# creating a new experiment to implement nested runs\n",
    "experiment_id = create_experiment(name=\"nested_experiment\", artifact_location=\"nested_artifact\", tags={\"purpose\": \"testing nested runs\"})\n",
    "\n",
    "mlflow.set_experiment(experiment_name=\"nested_experiment\")\n",
    "\n",
    "# starting the runs\n",
    "with mlflow.start_run(run_name=\"parent\", experiment_id=experiment_id) as parent:\n",
    "    print(f\"Run ID: {parent.info.run_id}\")\n",
    "\n",
    "    with mlflow.start_run(run_name=\"child1\", nested=True, experiment_id=experiment_id) as child1:\n",
    "        print(f\"Child1 Run ID: {child1.info.run_id}\")\n",
    "\n",
    "        with mlflow.start_run(run_name=\"child_11\", nested=True, experiment_id=experiment_id) as child_11:\n",
    "            print(f\"Child_11 Run ID: {child_11.info.run_id}\")\n",
    "\n",
    "        with mlflow.start_run(run_name=\"child_12\", nested=True, experiment_id=experiment_id) as child_12:\n",
    "            print(f\"Child_12 Run ID: {child_12.info.run_id}\")\n",
    "    \n",
    "    with mlflow.start_run(run_name=\"child2\", nested=True, experiment_id=experiment_id) as child2:\n",
    "        print(f\"Child2 Run ID: {child2.info.run_id}\")"
   ]
  }
 ],
 "metadata": {
  "kernelspec": {
   "display_name": "base",
   "language": "python",
   "name": "python3"
  },
  "language_info": {
   "codemirror_mode": {
    "name": "ipython",
    "version": 3
   },
   "file_extension": ".py",
   "mimetype": "text/x-python",
   "name": "python",
   "nbconvert_exporter": "python",
   "pygments_lexer": "ipython3",
   "version": "3.12.4"
  }
 },
 "nbformat": 4,
 "nbformat_minor": 5
}
