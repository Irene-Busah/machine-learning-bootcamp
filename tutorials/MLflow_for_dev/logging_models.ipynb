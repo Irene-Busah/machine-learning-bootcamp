{
 "cells": [
  {
   "cell_type": "code",
   "execution_count": 1,
   "id": "18ff539f",
   "metadata": {},
   "outputs": [],
   "source": [
    "# importing the necessary libraries\n",
    "import pandas as pd\n",
    "import mlflow\n",
    "from sklearn.datasets import make_classification\n",
    "from sklearn.model_selection import train_test_split\n",
    "from sklearn.ensemble import RandomForestClassifier"
   ]
  },
  {
   "cell_type": "code",
   "execution_count": 2,
   "id": "2e36a952",
   "metadata": {},
   "outputs": [],
   "source": [
    "from experiement_utils import retrieve_experiment, create_experiment"
   ]
  },
  {
   "cell_type": "code",
   "execution_count": 4,
   "id": "dff8a63c",
   "metadata": {},
   "outputs": [
    {
     "name": "stderr",
     "output_type": "stream",
     "text": [
      "2025/05/10 17:32:38 INFO mlflow.tracking.fluent: Autologging successfully enabled for sklearn.\n",
      "2025/05/10 17:32:38 WARNING mlflow.spark: With Pyspark >= 3.2, PYSPARK_PIN_THREAD environment variable must be set to false for Spark datasource autologging to work.\n",
      "2025/05/10 17:32:38 INFO mlflow.tracking.fluent: Autologging successfully enabled for pyspark.\n"
     ]
    },
    {
     "name": "stdout",
     "output_type": "stream",
     "text": [
      "Run ID: 4af64c965d59405e96b451d3309cae41\n",
      "Experiment ID: 276082829927872645\n",
      "Status: RUNNING\n",
      "Start time: 1746891158707\n",
      "End time: None\n",
      "Lifecycle stage: active\n"
     ]
    }
   ],
   "source": [
    "# retrieving an experiment\n",
    "experiment = retrieve_experiment(experiment_name=\"mlflow\")\n",
    "\n",
    "with mlflow.start_run(run_name=\"logging model\", experiment_id=experiment.experiment_id) as run:\n",
    "    X, y = make_classification(n_samples=1000, n_features=10, n_informative=5, n_redundant=5, random_state=42)\n",
    "\n",
    "    X_train, X_test, y_train, y_test = train_test_split(X, y, test_size=0.2, random_state=42)\n",
    "\n",
    "    mlflow.autolog()\n",
    "\n",
    "    random_forest = RandomForestClassifier()\n",
    "    random_forest.fit(X_train, y_train)\n",
    "\n",
    "    # predicting \n",
    "    y_pred = random_forest.predict(X_test)\n",
    "\n",
    "    # displaying run info\n",
    "    print(f\"Run ID: {run.info.run_id}\")\n",
    "    print(f\"Experiment ID: {run.info.experiment_id}\")\n",
    "    print(f\"Status: {run.info.status}\")\n",
    "    print(f\"Start time: {run.info.start_time}\")\n",
    "    print(f\"End time: {run.info.end_time}\")\n",
    "    print(f\"Lifecycle stage: {run.info.lifecycle_stage}\")\n",
    "    # print(f\"Artifact: {run.info.artifact_uri}\")"
   ]
  },
  {
   "cell_type": "code",
   "execution_count": null,
   "id": "a042d220",
   "metadata": {},
   "outputs": [],
   "source": []
  }
 ],
 "metadata": {
  "kernelspec": {
   "display_name": "base",
   "language": "python",
   "name": "python3"
  },
  "language_info": {
   "codemirror_mode": {
    "name": "ipython",
    "version": 3
   },
   "file_extension": ".py",
   "mimetype": "text/x-python",
   "name": "python",
   "nbconvert_exporter": "python",
   "pygments_lexer": "ipython3",
   "version": "3.12.4"
  }
 },
 "nbformat": 4,
 "nbformat_minor": 5
}
