{
 "cells": [
  {
   "cell_type": "code",
   "execution_count": 12,
   "id": "aae312d8",
   "metadata": {},
   "outputs": [],
   "source": [
    "# importing the necessary libraries\n",
    "import pandas as pd\n",
    "import mlflow\n",
    "from sklearn.datasets import make_regression\n",
    "from sklearn.ensemble import RandomForestRegressor"
   ]
  },
  {
   "cell_type": "code",
   "execution_count": 5,
   "id": "d6b1218d",
   "metadata": {},
   "outputs": [],
   "source": [
    "# importing util functions\n",
    "from experiement_utils import create_experiment, retrieve_experiment"
   ]
  },
  {
   "cell_type": "code",
   "execution_count": 8,
   "id": "5b2a6ceb",
   "metadata": {},
   "outputs": [
    {
     "name": "stderr",
     "output_type": "stream",
     "text": [
      "c:\\Users\\STUDSENT\\anaconda3\\Lib\\site-packages\\mlflow\\pyfunc\\utils\\data_validation.py:186: UserWarning: \u001b[33mAdd type hints to the `predict` method to enable data validation and automatic signature inference during model logging. Check https://mlflow.org/docs/latest/model/python_model.html#type-hint-usage-in-pythonmodel for more details.\u001b[0m\n",
      "  color_warning(\n"
     ]
    }
   ],
   "source": [
    "# creating a custom model\n",
    "\n",
    "class CustomModel(mlflow.pyfunc.PythonModel):\n",
    "    def predict(self, context, model_input):\n",
    "        return model_input\n"
   ]
  },
  {
   "cell_type": "code",
   "execution_count": 16,
   "id": "13e158f5",
   "metadata": {},
   "outputs": [
    {
     "name": "stdout",
     "output_type": "stream",
     "text": [
      "Experiment model regsitry already exist\n"
     ]
    },
    {
     "name": "stderr",
     "output_type": "stream",
     "text": [
      "2025/05/11 15:22:38 INFO mlflow.tracking.fluent: Autologging successfully enabled for sklearn.\n",
      "2025/05/11 15:22:38 WARNING mlflow.spark: With Pyspark >= 3.2, PYSPARK_PIN_THREAD environment variable must be set to false for Spark datasource autologging to work.\n",
      "2025/05/11 15:22:38 INFO mlflow.tracking.fluent: Autologging successfully enabled for pyspark.\n",
      "2025/05/11 15:22:51 WARNING mlflow.models.model: Model logged without a signature and input example. Please set `input_example` parameter when logging the model to auto infer the model signature.\n",
      "Successfully registered model 'CustomModel'.\n",
      "Created version '1' of model 'CustomModel'.\n",
      "2025/05/11 15:23:22 WARNING mlflow.models.model: Model logged without a signature and input example. Please set `input_example` parameter when logging the model to auto infer the model signature.\n",
      "Successfully registered model 'RandomForestRegressor'.\n",
      "Created version '1' of model 'RandomForestRegressor'.\n"
     ]
    }
   ],
   "source": [
    "# creating a new experiment\n",
    "import mlflow.sklearn\n",
    "\n",
    "\n",
    "experiment_id = create_experiment(name=\"model regsitry\", artifact_location=\"model_registry\", tags={\"author\": \"Irene\", \"purpose\": \"testing model registry\"})\n",
    "\n",
    "with mlflow.start_run(run_name=\"model_registry\", experiment_id=experiment_id, description=\"testing model registry\") as run:\n",
    "\n",
    "    model = CustomModel()\n",
    "\n",
    "    mlflow.autolog()\n",
    "    mlflow.pyfunc.log_model(artifact_path=\"custom_model\", python_model=model, registered_model_name=\"CustomModel\")\n",
    "\n",
    "    X, y = make_regression(n_samples=1000, n_features=10)\n",
    "    random_forest_reg1 = RandomForestRegressor(n_estimators=50)\n",
    "    random_forest_reg1.fit(X, y)\n",
    "\n",
    "\n",
    "    mlflow.sklearn.log_model(artifact_path=\"random_model_one\", sk_model=random_forest_reg1, registered_model_name=\"RandomForestRegressor\")\n",
    "    # mlflow.pyfunc.log_model(artifact_path=\"random_model_two\", python_model=RandomForestRegressor(n_estimators=30))"
   ]
  }
 ],
 "metadata": {
  "kernelspec": {
   "display_name": "base",
   "language": "python",
   "name": "python3"
  },
  "language_info": {
   "codemirror_mode": {
    "name": "ipython",
    "version": 3
   },
   "file_extension": ".py",
   "mimetype": "text/x-python",
   "name": "python",
   "nbconvert_exporter": "python",
   "pygments_lexer": "ipython3",
   "version": "3.12.4"
  }
 },
 "nbformat": 4,
 "nbformat_minor": 5
}
