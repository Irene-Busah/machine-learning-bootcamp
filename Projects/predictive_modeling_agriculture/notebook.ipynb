{
 "cells": [
  {
   "cell_type": "markdown",
   "id": "d3d001b0-2e2f-4b58-8442-99520bad831f",
   "metadata": {},
   "source": [
    "# Sowing Success: How Machine Learning Helps Farmers Select the Best Crops\n",
    "\n",
    "![Farmer in a field](farmer_in_a_field.jpg)\n",
    "\n",
    "Measuring essential soil metrics such as nitrogen, phosphorous, potassium levels, and pH value is an important aspect of assessing soil condition. However, it can be an expensive and time-consuming process, which can cause farmers to prioritize which metrics to measure based on their budget constraints.\n",
    "\n",
    "Farmers have various options when it comes to deciding which crop to plant each season. Their primary objective is to maximize the yield of their crops, taking into account different factors. One crucial factor that affects crop growth is the condition of the soil in the field, which can be assessed by measuring basic elements such as nitrogen and potassium levels. Each crop has an ideal soil condition that ensures optimal growth and maximum yield.\n",
    "\n",
    "A farmer reached out to you as a machine learning expert for assistance in selecting the best crop for his field. They've provided you with a dataset called `soil_measures.csv`, which contains:\n",
    "\n",
    "- `\"N\"`: Nitrogen content ratio in the soil\n",
    "- `\"P\"`: Phosphorous content ratio in the soil\n",
    "- `\"K\"`: Potassium content ratio in the soil\n",
    "- `\"pH\"` value of the soil\n",
    "- `\"crop\"`: categorical values that contain various crops (target variable).\n",
    "\n",
    "Each row in this dataset represents various measures of the soil in a particular field. Based on these measurements, the crop specified in the `\"crop\"` column is the optimal choice for that field.  \n",
    "\n",
    "In this project, you will build multi-class classification models to predict the type of `\"crop\"` and identify the single most importance feature for predictive performance.\n",
    "\n",
    "=============================== Instructions ====================================\n",
    "\n",
    "Identify the single feature that has the strongest predictive performance for classifying crop types.\n",
    "\n",
    "- Find the feature in the dataset that produces the best score for predicting \"crop\".\n",
    "- From this information, create a variable called best_predictive_feature, which:\n",
    "    - Should be a dictionary containing the best predictive feature name as a key and the evaluation score (for the metric you chose) as the value.\n"
   ]
  },
  {
   "cell_type": "code",
   "execution_count": 8,
   "id": "d0eb4f16-5a99-460d-a5ba-706b7ef0bbe7",
   "metadata": {
    "executionCancelledAt": null,
    "executionTime": 14,
    "id": "bA5ajAmk7XH6",
    "lastExecutedAt": 1707317470036,
    "lastScheduledRunId": null,
    "lastSuccessfullyExecutedCode": "# All required libraries are imported here for you.\nimport pandas as pd\nfrom sklearn.linear_model import LogisticRegression\nfrom sklearn.ensemble import RandomForestClassifier\nfrom sklearn.model_selection import train_test_split\nfrom sklearn import metrics\n\n# Load the dataset\ncrops = pd.read_csv(\"soil_measures.csv\")\n\n# Write your code here"
   },
   "outputs": [
    {
     "data": {
      "text/plain": [
       "N       0\n",
       "P       0\n",
       "K       0\n",
       "ph      0\n",
       "crop    0\n",
       "dtype: int64"
      ]
     },
     "execution_count": 8,
     "metadata": {},
     "output_type": "execute_result"
    }
   ],
   "source": [
    "# All required libraries are imported here for you.\n",
    "import pandas as pd\n",
    "from sklearn.linear_model import LogisticRegression\n",
    "from sklearn.model_selection import train_test_split\n",
    "from sklearn.preprocessing import StandardScaler\n",
    "from sklearn import metrics\n",
    "\n",
    "# Load the dataset\n",
    "crops = pd.read_csv(\"soil_measures.csv\")\n",
    "\n",
    "# let's preprocess the dataset\n",
    "\n",
    "# 1. checking for missing values\n",
    "crops.isna().sum()"
   ]
  },
  {
   "cell_type": "code",
   "execution_count": 2,
   "id": "e49e41c7",
   "metadata": {},
   "outputs": [
    {
     "data": {
      "text/plain": [
       "array(['rice', 'maize', 'chickpea', 'kidneybeans', 'pigeonpeas',\n",
       "       'mothbeans', 'mungbean', 'blackgram', 'lentil', 'pomegranate',\n",
       "       'banana', 'mango', 'grapes', 'watermelon', 'muskmelon', 'apple',\n",
       "       'orange', 'papaya', 'coconut', 'cotton', 'jute', 'coffee'],\n",
       "      dtype=object)"
      ]
     },
     "execution_count": 2,
     "metadata": {},
     "output_type": "execute_result"
    }
   ],
   "source": [
    "# 2. checking the unique crops available in the dataset\n",
    "crops['crop'].unique()\n"
   ]
  },
  {
   "cell_type": "code",
   "execution_count": 16,
   "id": "4980482e",
   "metadata": {},
   "outputs": [],
   "source": [
    "# let's split the dataset into training and testing sets\n",
    "explanatory_features = crops.drop(columns='crop', axis=1)\n",
    "target_feature = crops['crop']\n",
    "\n",
    "# 3. Scaling the numeric features\n",
    "# scaler = StandardScaler()\n",
    "# explanatory_features = scaler.fit_transform(explanatory_features)\n",
    "\n",
    "X_train, X_test, y_train, y_test = train_test_split(explanatory_features, target_feature, test_size=0.2)"
   ]
  },
  {
   "cell_type": "code",
   "execution_count": 19,
   "id": "1cdebd69",
   "metadata": {},
   "outputs": [
    {
     "name": "stdout",
     "output_type": "stream",
     "text": [
      "F1-Score for the N: {'N': 0.06286213388131726}\n",
      "F1-Score for the P: {'N': 0.06286213388131726, 'P': 0.15164383908038612}\n",
      "F1-Score for the K: {'N': 0.06286213388131726, 'P': 0.15164383908038612, 'K': 0.2113858380709201}\n",
      "F1-Score for the ph: {'N': 0.06286213388131726, 'P': 0.15164383908038612, 'K': 0.2113858380709201, 'ph': 0.03678089365630262}\n"
     ]
    }
   ],
   "source": [
    "# building and evaluating model performance using each feature\n",
    "features_performances = {}\n",
    "\n",
    "\n",
    "for feature in explanatory_features.columns:\n",
    "    logistic_model = LogisticRegression(multi_class='multinomial', max_iter=5000)\n",
    "    logistic_model.fit(X_train[[feature]], y_train)\n",
    "    y_predict = logistic_model.predict(X_test[[feature]])\n",
    "\n",
    "    f1_score = metrics.f1_score(y_test, y_predict, average='weighted')\n",
    "\n",
    "    features_performances[feature] = f1_score\n",
    "\n",
    "    print(f'F1-Score for the {feature}: {features_performances}')\n",
    "# features_performances"
   ]
  },
  {
   "cell_type": "code",
   "execution_count": 21,
   "id": "160b1fc3",
   "metadata": {},
   "outputs": [
    {
     "data": {
      "text/plain": [
       "{'K': 0.2113858380709201}"
      ]
     },
     "execution_count": 21,
     "metadata": {},
     "output_type": "execute_result"
    }
   ],
   "source": [
    "# retrieving the best predictive feature\n",
    "max_key = max(features_performances, key=features_performances.get)\n",
    "max_value = features_performances[max_key]\n",
    "\n",
    "best_predictive_feature = {max_key: max_value}\n",
    "\n",
    "best_predictive_feature"
   ]
  }
 ],
 "metadata": {
  "colab": {
   "name": "Welcome to DataCamp Workspaces.ipynb",
   "provenance": []
  },
  "kernelspec": {
   "display_name": "base",
   "language": "python",
   "name": "python3"
  },
  "language_info": {
   "codemirror_mode": {
    "name": "ipython",
    "version": 3
   },
   "file_extension": ".py",
   "mimetype": "text/x-python",
   "name": "python",
   "nbconvert_exporter": "python",
   "pygments_lexer": "ipython3",
   "version": "3.9.12"
  }
 },
 "nbformat": 4,
 "nbformat_minor": 5
}
